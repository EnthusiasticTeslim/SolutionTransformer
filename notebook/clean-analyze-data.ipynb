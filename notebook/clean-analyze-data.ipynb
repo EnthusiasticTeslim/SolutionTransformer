{
 "cells": [
  {
   "cell_type": "code",
   "execution_count": 3,
   "metadata": {},
   "outputs": [
    {
     "name": "stdout",
     "output_type": "stream",
     "text": [
      "/Users/gbemidebe/Documents/GitHub/SolutionTransformer\n"
     ]
    }
   ],
   "source": [
    "import pandas as pd\n",
    "import numpy as np\n",
    "\n",
    "import os\n",
    "\n",
    "os.chdir('../')\n",
    "print(os.getcwd())"
   ]
  },
  {
   "cell_type": "markdown",
   "metadata": {},
   "source": [
    "### load data"
   ]
  },
  {
   "cell_type": "code",
   "execution_count": 4,
   "metadata": {},
   "outputs": [
    {
     "name": "stdout",
     "output_type": "stream",
     "text": [
      "(20870, 4)\n"
     ]
    },
    {
     "data": {
      "text/html": [
       "<div>\n",
       "<style scoped>\n",
       "    .dataframe tbody tr th:only-of-type {\n",
       "        vertical-align: middle;\n",
       "    }\n",
       "\n",
       "    .dataframe tbody tr th {\n",
       "        vertical-align: top;\n",
       "    }\n",
       "\n",
       "    .dataframe thead th {\n",
       "        text-align: right;\n",
       "    }\n",
       "</style>\n",
       "<table border=\"1\" class=\"dataframe\">\n",
       "  <thead>\n",
       "    <tr style=\"text-align: right;\">\n",
       "      <th></th>\n",
       "      <th>Solute_SMILES</th>\n",
       "      <th>Solvent_SMILES</th>\n",
       "      <th>log-gamma</th>\n",
       "      <th>T</th>\n",
       "    </tr>\n",
       "  </thead>\n",
       "  <tbody>\n",
       "    <tr>\n",
       "      <th>0</th>\n",
       "      <td>C</td>\n",
       "      <td>CCCCCCCCCCCCCCCC</td>\n",
       "      <td>-0.261365</td>\n",
       "      <td>40.0</td>\n",
       "    </tr>\n",
       "    <tr>\n",
       "      <th>1</th>\n",
       "      <td>C</td>\n",
       "      <td>CCCCCCCCCCCCCCCC</td>\n",
       "      <td>-0.287682</td>\n",
       "      <td>70.0</td>\n",
       "    </tr>\n",
       "    <tr>\n",
       "      <th>2</th>\n",
       "      <td>C</td>\n",
       "      <td>CCCCCCCCCCCCCCCC</td>\n",
       "      <td>-0.301105</td>\n",
       "      <td>90.0</td>\n",
       "    </tr>\n",
       "    <tr>\n",
       "      <th>3</th>\n",
       "      <td>CC</td>\n",
       "      <td>CCCCCCCCCCCCCCCC</td>\n",
       "      <td>-0.235722</td>\n",
       "      <td>40.0</td>\n",
       "    </tr>\n",
       "    <tr>\n",
       "      <th>4</th>\n",
       "      <td>CC</td>\n",
       "      <td>CCCCCCCCCCCCCCCC</td>\n",
       "      <td>-0.248461</td>\n",
       "      <td>70.0</td>\n",
       "    </tr>\n",
       "  </tbody>\n",
       "</table>\n",
       "</div>"
      ],
      "text/plain": [
       "  Solute_SMILES    Solvent_SMILES  log-gamma     T\n",
       "0             C  CCCCCCCCCCCCCCCC  -0.261365  40.0\n",
       "1             C  CCCCCCCCCCCCCCCC  -0.287682  70.0\n",
       "2             C  CCCCCCCCCCCCCCCC  -0.301105  90.0\n",
       "3            CC  CCCCCCCCCCCCCCCC  -0.235722  40.0\n",
       "4            CC  CCCCCCCCCCCCCCCC  -0.248461  70.0"
      ]
     },
     "execution_count": 4,
     "metadata": {},
     "output_type": "execute_result"
    }
   ],
   "source": [
    "raw_data = pd.read_csv('data/raw/Brouwer_2021.csv')\n",
    "print(raw_data.shape)\n",
    "raw_data.head()"
   ]
  },
  {
   "cell_type": "markdown",
   "metadata": {},
   "source": [
    "### check data"
   ]
  },
  {
   "cell_type": "code",
   "execution_count": 5,
   "metadata": {},
   "outputs": [
    {
     "data": {
      "text/plain": [
       "Solute_SMILES     0\n",
       "Solvent_SMILES    0\n",
       "log-gamma         0\n",
       "T                 0\n",
       "dtype: int64"
      ]
     },
     "execution_count": 5,
     "metadata": {},
     "output_type": "execute_result"
    }
   ],
   "source": [
    "raw_data.isna().sum()"
   ]
  },
  {
   "cell_type": "markdown",
   "metadata": {},
   "source": [
    "### canonicalize data"
   ]
  },
  {
   "cell_type": "code",
   "execution_count": 6,
   "metadata": {},
   "outputs": [],
   "source": [
    "from rdkit import Chem\n",
    "def canonicalize(smiles):\n",
    "    if Chem.MolFromSmiles(smiles) is not None:\n",
    "        return Chem.MolToSmiles(Chem.MolFromSmiles(smiles))\n"
   ]
  },
  {
   "cell_type": "code",
   "execution_count": 8,
   "metadata": {},
   "outputs": [],
   "source": [
    "raw_data['Solute_SMILES_canon'] = raw_data['Solute_SMILES'].apply(canonicalize)\n",
    "raw_data['Solvent_SMILES_canon'] = raw_data['Solvent_SMILES'].apply(canonicalize)"
   ]
  },
  {
   "cell_type": "markdown",
   "metadata": {},
   "source": [
    "### analyze data"
   ]
  },
  {
   "cell_type": "code",
   "execution_count": 10,
   "metadata": {},
   "outputs": [],
   "source": [
    "from rdkit import Chem\n",
    "from rdkit.Chem import Descriptors"
   ]
  },
  {
   "cell_type": "code",
   "execution_count": 11,
   "metadata": {},
   "outputs": [],
   "source": [
    "# Add molecular weight column\n",
    "raw_data['Solute_SMILES_canon_MW'] = raw_data['Solute_SMILES_canon'].apply(lambda x: Descriptors.MolWt((Chem.MolFromSmiles(x))))"
   ]
  },
  {
   "cell_type": "code",
   "execution_count": 12,
   "metadata": {},
   "outputs": [],
   "source": [
    "# Add molecular weight column\n",
    "raw_data['Solvent_SMILES_canon_MW'] = raw_data['Solvent_SMILES_canon'].apply(lambda x: Descriptors.MolWt((Chem.MolFromSmiles(x))))"
   ]
  },
  {
   "cell_type": "code",
   "execution_count": 13,
   "metadata": {},
   "outputs": [
    {
     "data": {
      "text/plain": [
       "<AxesSubplot:>"
      ]
     },
     "execution_count": 13,
     "metadata": {},
     "output_type": "execute_result"
    },
    {
     "data": {
      "image/png": "[encoded data removed]",
      "text/plain": [
       "<Figure size 800x500 with 2 Axes>"
      ]
     },
     "metadata": {},
     "output_type": "display_data"
    }
   ],
   "source": [
    "# plot bar\n",
    "import matplotlib.pyplot as plt\n",
    "\n",
    "plt.figure(figsize=(8, 5))\n",
    "\n",
    "plt.subplot(1, 2, 1)\n",
    "raw_data['Solute_SMILES_canon_MW'].hist(bins=50)\n",
    "\n",
    "plt.subplot(1, 2, 2)\n",
    "raw_data['Solvent_SMILES_canon_MW'].hist(bins=50)\n"
   ]
  },
  {
   "cell_type": "code",
   "execution_count": 15,
   "metadata": {},
   "outputs": [
    {
     "data": {
      "text/html": [
       "<div>\n",
       "<style scoped>\n",
       "    .dataframe tbody tr th:only-of-type {\n",
       "        vertical-align: middle;\n",
       "    }\n",
       "\n",
       "    .dataframe tbody tr th {\n",
       "        vertical-align: top;\n",
       "    }\n",
       "\n",
       "    .dataframe thead th {\n",
       "        text-align: right;\n",
       "    }\n",
       "</style>\n",
       "<table border=\"1\" class=\"dataframe\">\n",
       "  <thead>\n",
       "    <tr style=\"text-align: right;\">\n",
       "      <th></th>\n",
       "      <th>Solute_SMILES</th>\n",
       "      <th>Solvent_SMILES</th>\n",
       "      <th>log-gamma</th>\n",
       "      <th>T</th>\n",
       "      <th>Solute_SMILES_canon</th>\n",
       "      <th>Solvent_SMILES_canon</th>\n",
       "      <th>Solute_SMILES_canon_MW</th>\n",
       "      <th>Solvent_SMILES_canon_MW</th>\n",
       "    </tr>\n",
       "  </thead>\n",
       "  <tbody>\n",
       "    <tr>\n",
       "      <th>0</th>\n",
       "      <td>C</td>\n",
       "      <td>CCCCCCCCCCCCCCCC</td>\n",
       "      <td>-0.261365</td>\n",
       "      <td>40.0</td>\n",
       "      <td>C</td>\n",
       "      <td>CCCCCCCCCCCCCCCC</td>\n",
       "      <td>16.043</td>\n",
       "      <td>226.448</td>\n",
       "    </tr>\n",
       "    <tr>\n",
       "      <th>1</th>\n",
       "      <td>C</td>\n",
       "      <td>CCCCCCCCCCCCCCCC</td>\n",
       "      <td>-0.287682</td>\n",
       "      <td>70.0</td>\n",
       "      <td>C</td>\n",
       "      <td>CCCCCCCCCCCCCCCC</td>\n",
       "      <td>16.043</td>\n",
       "      <td>226.448</td>\n",
       "    </tr>\n",
       "    <tr>\n",
       "      <th>2</th>\n",
       "      <td>C</td>\n",
       "      <td>CCCCCCCCCCCCCCCC</td>\n",
       "      <td>-0.301105</td>\n",
       "      <td>90.0</td>\n",
       "      <td>C</td>\n",
       "      <td>CCCCCCCCCCCCCCCC</td>\n",
       "      <td>16.043</td>\n",
       "      <td>226.448</td>\n",
       "    </tr>\n",
       "    <tr>\n",
       "      <th>3</th>\n",
       "      <td>CC</td>\n",
       "      <td>CCCCCCCCCCCCCCCC</td>\n",
       "      <td>-0.235722</td>\n",
       "      <td>40.0</td>\n",
       "      <td>CC</td>\n",
       "      <td>CCCCCCCCCCCCCCCC</td>\n",
       "      <td>30.070</td>\n",
       "      <td>226.448</td>\n",
       "    </tr>\n",
       "    <tr>\n",
       "      <th>4</th>\n",
       "      <td>CC</td>\n",
       "      <td>CCCCCCCCCCCCCCCC</td>\n",
       "      <td>-0.248461</td>\n",
       "      <td>70.0</td>\n",
       "      <td>CC</td>\n",
       "      <td>CCCCCCCCCCCCCCCC</td>\n",
       "      <td>30.070</td>\n",
       "      <td>226.448</td>\n",
       "    </tr>\n",
       "  </tbody>\n",
       "</table>\n",
       "</div>"
      ],
      "text/plain": [
       "  Solute_SMILES    Solvent_SMILES  log-gamma     T Solute_SMILES_canon  \\\n",
       "0             C  CCCCCCCCCCCCCCCC  -0.261365  40.0                   C   \n",
       "1             C  CCCCCCCCCCCCCCCC  -0.287682  70.0                   C   \n",
       "2             C  CCCCCCCCCCCCCCCC  -0.301105  90.0                   C   \n",
       "3            CC  CCCCCCCCCCCCCCCC  -0.235722  40.0                  CC   \n",
       "4            CC  CCCCCCCCCCCCCCCC  -0.248461  70.0                  CC   \n",
       "\n",
       "  Solvent_SMILES_canon  Solute_SMILES_canon_MW  Solvent_SMILES_canon_MW  \n",
       "0     CCCCCCCCCCCCCCCC                  16.043                  226.448  \n",
       "1     CCCCCCCCCCCCCCCC                  16.043                  226.448  \n",
       "2     CCCCCCCCCCCCCCCC                  16.043                  226.448  \n",
       "3     CCCCCCCCCCCCCCCC                  30.070                  226.448  \n",
       "4     CCCCCCCCCCCCCCCC                  30.070                  226.448  "
      ]
     },
     "execution_count": 15,
     "metadata": {},
     "output_type": "execute_result"
    }
   ],
   "source": [
    "raw_data.head()"
   ]
  },
  {
   "cell_type": "code",
   "execution_count": 16,
   "metadata": {},
   "outputs": [],
   "source": [
    "# Add logP column\n",
    "raw_data['Solute_SMILES_canon_logP'] = raw_data['Solute_SMILES_canon'].apply(lambda x: Descriptors.MolLogP((Chem.MolFromSmiles(x))))\n",
    "raw_data['Solvent_SMILES_canon_logP'] = raw_data['Solvent_SMILES_canon'].apply(lambda x: Descriptors.MolLogP((Chem.MolFromSmiles(x))))"
   ]
  },
  {
   "cell_type": "code",
   "execution_count": 17,
   "metadata": {},
   "outputs": [
    {
     "data": {
      "text/plain": [
       "<AxesSubplot:>"
      ]
     },
     "execution_count": 17,
     "metadata": {},
     "output_type": "execute_result"
    },
    {
     "data": {
      "image/png": "[encoded data removed]",
      "text/plain": [
       "<Figure size 800x500 with 2 Axes>"
      ]
     },
     "metadata": {},
     "output_type": "display_data"
    }
   ],
   "source": [
    "plt.figure(figsize=(8, 5))\n",
    "\n",
    "plt.subplot(1, 2, 1)\n",
    "raw_data['Solute_SMILES_canon_logP'].hist(bins=50)\n",
    "\n",
    "plt.subplot(1, 2, 2)\n",
    "raw_data['Solvent_SMILES_canon_logP'].hist(bins=50)"
   ]
  },
  {
   "cell_type": "markdown",
   "metadata": {},
   "source": [
    "### Save data"
   ]
  },
  {
   "cell_type": "code",
   "execution_count": 18,
   "metadata": {},
   "outputs": [
    {
     "data": {
      "text/plain": [
       "Index(['Solute_SMILES', 'Solvent_SMILES', 'log-gamma', 'T',\n",
       "       'Solute_SMILES_canon', 'Solvent_SMILES_canon', 'Solute_SMILES_canon_MW',\n",
       "       'Solvent_SMILES_canon_MW', 'Solute_SMILES_canon_logP',\n",
       "       'Solvent_SMILES_canon_logP'],\n",
       "      dtype='object')"
      ]
     },
     "execution_count": 18,
     "metadata": {},
     "output_type": "execute_result"
    }
   ],
   "source": [
    "raw_data.columns"
   ]
  },
  {
   "cell_type": "code",
   "execution_count": 19,
   "metadata": {},
   "outputs": [],
   "source": [
    "new_data = raw_data[['Solute_SMILES_canon', 'Solvent_SMILES_canon', 'T', 'log-gamma']]"
   ]
  },
  {
   "cell_type": "code",
   "execution_count": 20,
   "metadata": {},
   "outputs": [
    {
     "data": {
      "text/html": [
       "<div>\n",
       "<style scoped>\n",
       "    .dataframe tbody tr th:only-of-type {\n",
       "        vertical-align: middle;\n",
       "    }\n",
       "\n",
       "    .dataframe tbody tr th {\n",
       "        vertical-align: top;\n",
       "    }\n",
       "\n",
       "    .dataframe thead th {\n",
       "        text-align: right;\n",
       "    }\n",
       "</style>\n",
       "<table border=\"1\" class=\"dataframe\">\n",
       "  <thead>\n",
       "    <tr style=\"text-align: right;\">\n",
       "      <th></th>\n",
       "      <th>solute</th>\n",
       "      <th>solvent</th>\n",
       "      <th>T</th>\n",
       "      <th>log_gamma</th>\n",
       "    </tr>\n",
       "  </thead>\n",
       "  <tbody>\n",
       "    <tr>\n",
       "      <th>0</th>\n",
       "      <td>C</td>\n",
       "      <td>CCCCCCCCCCCCCCCC</td>\n",
       "      <td>40.0</td>\n",
       "      <td>-0.261365</td>\n",
       "    </tr>\n",
       "    <tr>\n",
       "      <th>1</th>\n",
       "      <td>C</td>\n",
       "      <td>CCCCCCCCCCCCCCCC</td>\n",
       "      <td>70.0</td>\n",
       "      <td>-0.287682</td>\n",
       "    </tr>\n",
       "    <tr>\n",
       "      <th>2</th>\n",
       "      <td>C</td>\n",
       "      <td>CCCCCCCCCCCCCCCC</td>\n",
       "      <td>90.0</td>\n",
       "      <td>-0.301105</td>\n",
       "    </tr>\n",
       "    <tr>\n",
       "      <th>3</th>\n",
       "      <td>CC</td>\n",
       "      <td>CCCCCCCCCCCCCCCC</td>\n",
       "      <td>40.0</td>\n",
       "      <td>-0.235722</td>\n",
       "    </tr>\n",
       "    <tr>\n",
       "      <th>4</th>\n",
       "      <td>CC</td>\n",
       "      <td>CCCCCCCCCCCCCCCC</td>\n",
       "      <td>70.0</td>\n",
       "      <td>-0.248461</td>\n",
       "    </tr>\n",
       "  </tbody>\n",
       "</table>\n",
       "</div>"
      ],
      "text/plain": [
       "  solute           solvent     T  log_gamma\n",
       "0      C  CCCCCCCCCCCCCCCC  40.0  -0.261365\n",
       "1      C  CCCCCCCCCCCCCCCC  70.0  -0.287682\n",
       "2      C  CCCCCCCCCCCCCCCC  90.0  -0.301105\n",
       "3     CC  CCCCCCCCCCCCCCCC  40.0  -0.235722\n",
       "4     CC  CCCCCCCCCCCCCCCC  70.0  -0.248461"
      ]
     },
     "execution_count": 20,
     "metadata": {},
     "output_type": "execute_result"
    }
   ],
   "source": [
    "new_data.columns = ['solute', 'solvent', 'T', 'log_gamma']\n",
    "new_data.head()"
   ]
  },
  {
   "cell_type": "code",
   "execution_count": 21,
   "metadata": {},
   "outputs": [],
   "source": [
    "new_data.to_csv('data/processed/cleaned_Brouwer_2021.csv', index=False)"
   ]
  },
  {
   "cell_type": "markdown",
   "metadata": {},
   "source": []
  }
 ],
 "metadata": {
  "kernelspec": {
   "display_name": "MatML",
   "language": "python",
   "name": "python3"
  },
  "language_info": {
   "codemirror_mode": {
    "name": "ipython",
    "version": 3
   },
   "file_extension": ".py",
   "mimetype": "text/x-python",
   "name": "python",
   "nbconvert_exporter": "python",
   "pygments_lexer": "ipython3",
   "version": "3.8.17"
  }
 },
 "nbformat": 4,
 "nbformat_minor": 2
}

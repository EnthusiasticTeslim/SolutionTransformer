{
 "cells": [
  {
   "cell_type": "code",
   "execution_count": 1,
   "metadata": {},
   "outputs": [
    {
     "name": "stdout",
     "output_type": "stream",
     "text": [
      "Starting in:  /Users/gbemidebe/Documents/GitHub/SolutionTransformer/notebook\n",
      "Current working directory:  /Users/gbemidebe/Documents/GitHub/SolutionTransformer\n"
     ]
    }
   ],
   "source": [
    "# load in data\n",
    "import os\n",
    "print('Starting in: ', os.getcwd())\n",
    "os.chdir(\"../\")\n",
    "print('Current working directory: ', os.getcwd())"
   ]
  },
  {
   "cell_type": "code",
   "execution_count": 2,
   "metadata": {},
   "outputs": [
    {
     "name": "stderr",
     "output_type": "stream",
     "text": [
      "/Users/gbemidebe/miniconda3/envs/SolutionTransformer/lib/python3.8/site-packages/tqdm/auto.py:21: TqdmWarning: IProgress not found. Please update jupyter and ipywidgets. See https://ipywidgets.readthedocs.io/en/stable/user_install.html\n",
      "  from .autonotebook import tqdm as notebook_tqdm\n"
     ]
    }
   ],
   "source": [
    "import pandas as pd\n",
    "import numpy as np\n",
    "import matplotlib.pyplot as plt\n",
    "\n",
    "from datasets import Dataset, DatasetDict\n",
    "\n",
    "from transformers import AutoTokenizer, AutoConfig, AutoModelForSequenceClassification, Trainer, EvalPrediction\n",
    "from transformers import  Trainer, EvalPrediction\n",
    "from transformers.training_args import TrainingArguments\n",
    "\n",
    "from sklearn.metrics import mean_squared_error, mean_absolute_error, r2_score"
   ]
  },
  {
   "attachments": {},
   "cell_type": "markdown",
   "metadata": {},
   "source": [
    "## 1. Load data"
   ]
  },
  {
   "cell_type": "code",
   "execution_count": 3,
   "metadata": {},
   "outputs": [],
   "source": [
    "# load in data\n",
    "data = pd.read_csv('data/processed/cleaned_Brouwer_2021.csv')"
   ]
  },
  {
   "cell_type": "code",
   "execution_count": 4,
   "metadata": {},
   "outputs": [
    {
     "data": {
      "text/html": [
       "<div>\n",
       "<style scoped>\n",
       "    .dataframe tbody tr th:only-of-type {\n",
       "        vertical-align: middle;\n",
       "    }\n",
       "\n",
       "    .dataframe tbody tr th {\n",
       "        vertical-align: top;\n",
       "    }\n",
       "\n",
       "    .dataframe thead th {\n",
       "        text-align: right;\n",
       "    }\n",
       "</style>\n",
       "<table border=\"1\" class=\"dataframe\">\n",
       "  <thead>\n",
       "    <tr style=\"text-align: right;\">\n",
       "      <th></th>\n",
       "      <th>solute</th>\n",
       "      <th>solvent</th>\n",
       "      <th>T</th>\n",
       "      <th>log_gamma</th>\n",
       "    </tr>\n",
       "  </thead>\n",
       "  <tbody>\n",
       "    <tr>\n",
       "      <th>0</th>\n",
       "      <td>C</td>\n",
       "      <td>CCCCCCCCCCCCCCCC</td>\n",
       "      <td>40.0</td>\n",
       "      <td>-0.261365</td>\n",
       "    </tr>\n",
       "    <tr>\n",
       "      <th>1</th>\n",
       "      <td>C</td>\n",
       "      <td>CCCCCCCCCCCCCCCC</td>\n",
       "      <td>70.0</td>\n",
       "      <td>-0.287682</td>\n",
       "    </tr>\n",
       "    <tr>\n",
       "      <th>2</th>\n",
       "      <td>C</td>\n",
       "      <td>CCCCCCCCCCCCCCCC</td>\n",
       "      <td>90.0</td>\n",
       "      <td>-0.301105</td>\n",
       "    </tr>\n",
       "    <tr>\n",
       "      <th>3</th>\n",
       "      <td>CC</td>\n",
       "      <td>CCCCCCCCCCCCCCCC</td>\n",
       "      <td>40.0</td>\n",
       "      <td>-0.235722</td>\n",
       "    </tr>\n",
       "    <tr>\n",
       "      <th>4</th>\n",
       "      <td>CC</td>\n",
       "      <td>CCCCCCCCCCCCCCCC</td>\n",
       "      <td>70.0</td>\n",
       "      <td>-0.248461</td>\n",
       "    </tr>\n",
       "  </tbody>\n",
       "</table>\n",
       "</div>"
      ],
      "text/plain": [
       "  solute           solvent     T  log_gamma\n",
       "0      C  CCCCCCCCCCCCCCCC  40.0  -0.261365\n",
       "1      C  CCCCCCCCCCCCCCCC  70.0  -0.287682\n",
       "2      C  CCCCCCCCCCCCCCCC  90.0  -0.301105\n",
       "3     CC  CCCCCCCCCCCCCCCC  40.0  -0.235722\n",
       "4     CC  CCCCCCCCCCCCCCCC  70.0  -0.248461"
      ]
     },
     "execution_count": 4,
     "metadata": {},
     "output_type": "execute_result"
    }
   ],
   "source": [
    "data.head()"
   ]
  },
  {
   "cell_type": "code",
   "execution_count": 5,
   "metadata": {},
   "outputs": [
    {
     "data": {
      "text/plain": [
       "DatasetDict({\n",
       "    train: Dataset({\n",
       "        features: ['solute', 'solvent', 'T', 'label'],\n",
       "        num_rows: 16696\n",
       "    })\n",
       "    test: Dataset({\n",
       "        features: ['solute', 'solvent', 'T', 'label'],\n",
       "        num_rows: 2087\n",
       "    })\n",
       "    valid: Dataset({\n",
       "        features: ['solute', 'solvent', 'T', 'label'],\n",
       "        num_rows: 2087\n",
       "    })\n",
       "})"
      ]
     },
     "execution_count": 5,
     "metadata": {},
     "output_type": "execute_result"
    }
   ],
   "source": [
    "# rename columns\n",
    "data.columns = ['solute', 'solvent', 'T', 'label']\n",
    "\n",
    "# convert to dataset\n",
    "dataset = Dataset.from_pandas(data, preserve_index=False)\n",
    "\n",
    "# using split function to split dataset into train, test, and validation sets\n",
    "train_testvalid = dataset.train_test_split(test_size=0.2)\n",
    "test_valid = train_testvalid['test'].train_test_split(test_size=0.5)\n",
    "\n",
    "train_test_valid_dataset = DatasetDict({\n",
    "    'train': train_testvalid['train'],\n",
    "    'test': test_valid['test'],\n",
    "    'valid': test_valid['train']})\n",
    "\n",
    "train_test_valid_dataset"
   ]
  },
  {
   "attachments": {},
   "cell_type": "markdown",
   "metadata": {},
   "source": [
    "## 2. Tokenize the dataset"
   ]
  },
  {
   "cell_type": "code",
   "execution_count": null,
   "metadata": {},
   "outputs": [],
   "source": []
  },
  {
   "cell_type": "code",
   "execution_count": 6,
   "metadata": {},
   "outputs": [
    {
     "name": "stdout",
     "output_type": "stream",
     "text": [
      "136\n"
     ]
    },
    {
     "name": "stderr",
     "output_type": "stream",
     "text": [
      "Map: 100%|██████████| 16696/16696 [00:00<00:00, 17475.26 examples/s]\n",
      "Map: 100%|██████████| 2087/2087 [00:00<00:00, 21428.85 examples/s]\n",
      "Map: 100%|██████████| 2087/2087 [00:00<00:00, 21188.22 examples/s]\n"
     ]
    }
   ],
   "source": [
    "# load in the tokenizer\n",
    "model_name = 'seyonec/PubChem10M_SMILES_BPE_450k'\n",
    "tokenizer = AutoTokenizer.from_pretrained(model_name)\n",
    "\n",
    "# get maximum length of input sequence\n",
    "def max_len(data, idx):\n",
    "    \"\"\"\n",
    "    Returns the maximum length of the input sequence\"\"\"\n",
    "    return max([len(x) for x in data[idx]])\n",
    "\n",
    "maximum_length=max_len(data, \"solute\") + max_len(data, \"solvent\") + 3\n",
    "print(maximum_length)\n",
    "\n",
    "# tokenize function\n",
    "def tokenize_function(examples):\n",
    "    '''\n",
    "    Tokenizes the input sequence'''\n",
    "    return tokenizer(examples[\"solute\"], examples[\"solvent\"], padding='max_length', truncation=True, max_length=maximum_length)\n",
    "\n",
    "tokenized_datasets = train_test_valid_dataset.map(tokenize_function, batched=True).remove_columns([\"solute\", 'solvent', 'T'])\n",
    "\n",
    "train_data = tokenized_datasets[\"train\"]\n",
    "eval_data = tokenized_datasets[\"valid\"]\n",
    "test_data = tokenized_datasets['test']\n",
    "\n"
   ]
  },
  {
   "cell_type": "code",
   "execution_count": 23,
   "metadata": {},
   "outputs": [
    {
     "data": {
      "text/plain": [
       "Dataset({\n",
       "    features: ['label', 'input_ids', 'attention_mask'],\n",
       "    num_rows: 16696\n",
       "})"
      ]
     },
     "execution_count": 23,
     "metadata": {},
     "output_type": "execute_result"
    }
   ],
   "source": [
    "train_data"
   ]
  },
  {
   "cell_type": "markdown",
   "metadata": {},
   "source": [
    "## 3. Model Training"
   ]
  },
  {
   "cell_type": "code",
   "execution_count": 7,
   "metadata": {},
   "outputs": [
    {
     "name": "stderr",
     "output_type": "stream",
     "text": [
      "Some weights of RobertaForSequenceClassification were not initialized from the model checkpoint at seyonec/PubChem10M_SMILES_BPE_450k and are newly initialized: ['classifier.out_proj.bias', 'classifier.dense.bias', 'classifier.out_proj.weight', 'classifier.dense.weight']\n",
      "You should probably TRAIN this model on a down-stream task to be able to use it for predictions and inference.\n"
     ]
    }
   ],
   "source": [
    "# configuration for regression\n",
    "config = AutoConfig.from_pretrained(model_name,num_labels=1)\n",
    "# load in the model\n",
    "model = AutoModelForSequenceClassification.from_pretrained(model_name, config=config,)"
   ]
  },
  {
   "cell_type": "code",
   "execution_count": 8,
   "metadata": {},
   "outputs": [],
   "source": [
    "def compute_metrics(output: EvalPrediction):\n",
    "    \"\"\"\n",
    "    Computes the metrics for evaluation\"\"\"\n",
    "    preds, labels = output\n",
    "\n",
    "    return {\n",
    "        \"mse\": mean_squared_error(labels, preds),\n",
    "        \"mae\": mean_absolute_error(labels, preds),\n",
    "        \"r2\": r2_score(labels, preds)}"
   ]
  },
  {
   "cell_type": "code",
   "execution_count": 9,
   "metadata": {},
   "outputs": [],
   "source": [
    "# choose arguments for training\n",
    "training_args = TrainingArguments(\n",
    "    output_dir=\"./model/no_temp\", \n",
    "    overwrite_output_dir=True, \n",
    "    num_train_epochs=10,\n",
    "    per_device_train_batch_size=32, \n",
    "    per_device_eval_batch_size=32,  \n",
    "    learning_rate=1e-4, evaluation_strategy=\"epoch\", save_strategy=\"epoch\", \n",
    "    do_train=True, do_eval=True, optim='adamw_torch', load_best_model_at_end=True,)"
   ]
  },
  {
   "cell_type": "code",
   "execution_count": 10,
   "metadata": {},
   "outputs": [
    {
     "name": "stderr",
     "output_type": "stream",
     "text": [
      " 10%|▉         | 500/5220 [05:08<46:45,  1.68it/s] "
     ]
    },
    {
     "name": "stdout",
     "output_type": "stream",
     "text": [
      "{'loss': 0.8707, 'learning_rate': 9.042145593869731e-05, 'epoch': 0.96}\n"
     ]
    },
    {
     "name": "stderr",
     "output_type": "stream",
     "text": [
      "                                                    \n",
      " 10%|█         | 522/5220 [05:38<1:50:54,  1.42s/it]"
     ]
    },
    {
     "name": "stdout",
     "output_type": "stream",
     "text": [
      "{'eval_loss': 0.3382129371166229, 'eval_mse': 0.3382129669189453, 'eval_mae': 0.3686157166957855, 'eval_r2': 0.9219569659438904, 'eval_runtime': 14.5507, 'eval_samples_per_second': 143.429, 'eval_steps_per_second': 4.536, 'epoch': 1.0}\n"
     ]
    },
    {
     "name": "stderr",
     "output_type": "stream",
     "text": [
      " 19%|█▉        | 1000/5220 [10:47<43:48,  1.61it/s] "
     ]
    },
    {
     "name": "stdout",
     "output_type": "stream",
     "text": [
      "{'loss': 0.3068, 'learning_rate': 8.084291187739465e-05, 'epoch': 1.92}\n"
     ]
    },
    {
     "name": "stderr",
     "output_type": "stream",
     "text": [
      "                                                   \n",
      " 20%|██        | 1044/5220 [11:27<42:46,  1.63it/s]"
     ]
    },
    {
     "name": "stdout",
     "output_type": "stream",
     "text": [
      "{'eval_loss': 0.23967863619327545, 'eval_mse': 0.23967863619327545, 'eval_mae': 0.3173563778400421, 'eval_r2': 0.9446938713639481, 'eval_runtime': 11.747, 'eval_samples_per_second': 177.662, 'eval_steps_per_second': 5.618, 'epoch': 2.0}\n"
     ]
    },
    {
     "name": "stderr",
     "output_type": "stream",
     "text": [
      " 29%|██▊       | 1500/5220 [15:54<33:42,  1.84it/s]  "
     ]
    },
    {
     "name": "stdout",
     "output_type": "stream",
     "text": [
      "{'loss': 0.2417, 'learning_rate': 7.126436781609196e-05, 'epoch': 2.87}\n"
     ]
    },
    {
     "name": "stderr",
     "output_type": "stream",
     "text": [
      "                                                   \n",
      " 30%|███       | 1566/5220 [16:41<31:10,  1.95it/s]"
     ]
    },
    {
     "name": "stdout",
     "output_type": "stream",
     "text": [
      "{'eval_loss': 0.2191343903541565, 'eval_mse': 0.2191344052553177, 'eval_mae': 0.2844679653644562, 'eval_r2': 0.9494344780966644, 'eval_runtime': 10.2826, 'eval_samples_per_second': 202.964, 'eval_steps_per_second': 6.419, 'epoch': 3.0}\n"
     ]
    },
    {
     "name": "stderr",
     "output_type": "stream",
     "text": [
      " 38%|███▊      | 2000/5220 [20:54<29:47,  1.80it/s]  "
     ]
    },
    {
     "name": "stdout",
     "output_type": "stream",
     "text": [
      "{'loss': 0.1915, 'learning_rate': 6.168582375478928e-05, 'epoch': 3.83}\n"
     ]
    },
    {
     "name": "stderr",
     "output_type": "stream",
     "text": [
      "                                                   \n",
      " 40%|████      | 2088/5220 [21:53<26:41,  1.96it/s]"
     ]
    },
    {
     "name": "stdout",
     "output_type": "stream",
     "text": [
      "{'eval_loss': 0.17989249527454376, 'eval_mse': 0.17989248037338257, 'eval_mae': 0.27163469791412354, 'eval_r2': 0.9584895977453435, 'eval_runtime': 10.4134, 'eval_samples_per_second': 200.416, 'eval_steps_per_second': 6.338, 'epoch': 4.0}\n"
     ]
    },
    {
     "name": "stderr",
     "output_type": "stream",
     "text": [
      " 48%|████▊     | 2500/5220 [25:55<25:49,  1.75it/s]  "
     ]
    },
    {
     "name": "stdout",
     "output_type": "stream",
     "text": [
      "{'loss': 0.1569, 'learning_rate': 5.2107279693486586e-05, 'epoch': 4.79}\n"
     ]
    },
    {
     "name": "stderr",
     "output_type": "stream",
     "text": [
      "                                                   \n",
      " 50%|█████     | 2610/5220 [27:08<21:34,  2.02it/s]"
     ]
    },
    {
     "name": "stdout",
     "output_type": "stream",
     "text": [
      "{'eval_loss': 0.15638916194438934, 'eval_mse': 0.15638914704322815, 'eval_mae': 0.252327024936676, 'eval_r2': 0.9639130170912421, 'eval_runtime': 9.8877, 'eval_samples_per_second': 211.069, 'eval_steps_per_second': 6.675, 'epoch': 5.0}\n"
     ]
    },
    {
     "name": "stderr",
     "output_type": "stream",
     "text": [
      " 57%|█████▋    | 3000/5220 [30:44<23:05,  1.60it/s]  "
     ]
    },
    {
     "name": "stdout",
     "output_type": "stream",
     "text": [
      "{'loss': 0.1396, 'learning_rate': 4.252873563218391e-05, 'epoch': 5.75}\n"
     ]
    },
    {
     "name": "stderr",
     "output_type": "stream",
     "text": [
      "                                                   \n",
      " 60%|██████    | 3132/5220 [32:07<18:01,  1.93it/s]"
     ]
    },
    {
     "name": "stdout",
     "output_type": "stream",
     "text": [
      "{'eval_loss': 0.16059871017932892, 'eval_mse': 0.16059868037700653, 'eval_mae': 0.24839606881141663, 'eval_r2': 0.9629416651009277, 'eval_runtime': 9.9333, 'eval_samples_per_second': 210.101, 'eval_steps_per_second': 6.644, 'epoch': 6.0}\n"
     ]
    },
    {
     "name": "stderr",
     "output_type": "stream",
     "text": [
      " 67%|██████▋   | 3500/5220 [35:27<15:15,  1.88it/s]  "
     ]
    },
    {
     "name": "stdout",
     "output_type": "stream",
     "text": [
      "{'loss': 0.1267, 'learning_rate': 3.295019157088123e-05, 'epoch': 6.7}\n"
     ]
    },
    {
     "name": "stderr",
     "output_type": "stream",
     "text": [
      "                                                   \n",
      " 70%|███████   | 3654/5220 [36:59<13:03,  2.00it/s]"
     ]
    },
    {
     "name": "stdout",
     "output_type": "stream",
     "text": [
      "{'eval_loss': 0.1679796278476715, 'eval_mse': 0.1679796278476715, 'eval_mae': 0.27231255173683167, 'eval_r2': 0.961238504275814, 'eval_runtime': 9.7467, 'eval_samples_per_second': 214.123, 'eval_steps_per_second': 6.772, 'epoch': 7.0}\n"
     ]
    },
    {
     "name": "stderr",
     "output_type": "stream",
     "text": [
      " 77%|███████▋  | 4000/5220 [40:06<10:46,  1.89it/s]  "
     ]
    },
    {
     "name": "stdout",
     "output_type": "stream",
     "text": [
      "{'loss': 0.1107, 'learning_rate': 2.3371647509578545e-05, 'epoch': 7.66}\n"
     ]
    },
    {
     "name": "stderr",
     "output_type": "stream",
     "text": [
      "                                                   \n",
      " 80%|████████  | 4176/5220 [41:50<08:42,  2.00it/s]"
     ]
    },
    {
     "name": "stdout",
     "output_type": "stream",
     "text": [
      "{'eval_loss': 0.13243278861045837, 'eval_mse': 0.13243278861045837, 'eval_mae': 0.19708164036273956, 'eval_r2': 0.9694409771715019, 'eval_runtime': 9.7334, 'eval_samples_per_second': 214.416, 'eval_steps_per_second': 6.781, 'epoch': 8.0}\n"
     ]
    },
    {
     "name": "stderr",
     "output_type": "stream",
     "text": [
      " 86%|████████▌ | 4500/5220 [44:48<06:16,  1.91it/s]  "
     ]
    },
    {
     "name": "stdout",
     "output_type": "stream",
     "text": [
      "{'loss': 0.0929, 'learning_rate': 1.3793103448275863e-05, 'epoch': 8.62}\n"
     ]
    },
    {
     "name": "stderr",
     "output_type": "stream",
     "text": [
      "                                                   \n",
      " 90%|█████████ | 4698/5220 [46:42<04:21,  2.00it/s]"
     ]
    },
    {
     "name": "stdout",
     "output_type": "stream",
     "text": [
      "{'eval_loss': 0.12983180582523346, 'eval_mse': 0.12983180582523346, 'eval_mae': 0.21097224950790405, 'eval_r2': 0.9700411594434215, 'eval_runtime': 9.4842, 'eval_samples_per_second': 220.049, 'eval_steps_per_second': 6.959, 'epoch': 9.0}\n"
     ]
    },
    {
     "name": "stderr",
     "output_type": "stream",
     "text": [
      " 96%|█████████▌| 5000/5220 [49:23<01:54,  1.92it/s]"
     ]
    },
    {
     "name": "stdout",
     "output_type": "stream",
     "text": [
      "{'loss': 0.0896, 'learning_rate': 4.214559386973181e-06, 'epoch': 9.58}\n"
     ]
    },
    {
     "name": "stderr",
     "output_type": "stream",
     "text": [
      "                                                   \n",
      "100%|██████████| 5220/5220 [51:29<00:00,  2.01it/s]"
     ]
    },
    {
     "name": "stdout",
     "output_type": "stream",
     "text": [
      "{'eval_loss': 0.12013041973114014, 'eval_mse': 0.12013043463230133, 'eval_mae': 0.19063104689121246, 'eval_r2': 0.9722797618422815, 'eval_runtime': 9.6455, 'eval_samples_per_second': 216.369, 'eval_steps_per_second': 6.843, 'epoch': 10.0}\n"
     ]
    },
    {
     "name": "stderr",
     "output_type": "stream",
     "text": [
      "100%|██████████| 5220/5220 [51:31<00:00,  1.69it/s]"
     ]
    },
    {
     "name": "stdout",
     "output_type": "stream",
     "text": [
      "{'train_runtime': 3091.9262, 'train_samples_per_second': 53.999, 'train_steps_per_second': 1.688, 'train_loss': 0.22659628126356338, 'epoch': 10.0}\n"
     ]
    },
    {
     "name": "stderr",
     "output_type": "stream",
     "text": [
      "\n"
     ]
    },
    {
     "data": {
      "text/plain": [
       "TrainOutput(global_step=5220, training_loss=0.22659628126356338, metrics={'train_runtime': 3091.9262, 'train_samples_per_second': 53.999, 'train_steps_per_second': 1.688, 'train_loss': 0.22659628126356338, 'epoch': 10.0})"
      ]
     },
     "execution_count": 10,
     "metadata": {},
     "output_type": "execute_result"
    }
   ],
   "source": [
    "# trainer for training\n",
    "trainer = Trainer(\n",
    "    model=model, args=training_args, compute_metrics=compute_metrics,\n",
    "    train_dataset=train_data, eval_dataset=eval_data,)\n",
    "\n",
    "# train the model\n",
    "trainer.train()"
   ]
  },
  {
   "cell_type": "code",
   "execution_count": 11,
   "metadata": {},
   "outputs": [
    {
     "name": "stderr",
     "output_type": "stream",
     "text": [
      "100%|██████████| 66/66 [00:09<00:00,  7.22it/s]\n"
     ]
    },
    {
     "data": {
      "text/plain": [
       "{'eval_loss': 0.12013041973114014,\n",
       " 'eval_mse': 0.12013043463230133,\n",
       " 'eval_mae': 0.19063104689121246,\n",
       " 'eval_r2': 0.9722797618422815,\n",
       " 'eval_runtime': 9.3091,\n",
       " 'eval_samples_per_second': 224.189,\n",
       " 'eval_steps_per_second': 7.09,\n",
       " 'epoch': 10.0}"
      ]
     },
     "execution_count": 11,
     "metadata": {},
     "output_type": "execute_result"
    }
   ],
   "source": [
    "# evaluate on the validation set\n",
    "trainer.evaluate()\n"
   ]
  },
  {
   "attachments": {},
   "cell_type": "markdown",
   "metadata": {},
   "source": [
    "## 4. Model Testing"
   ]
  },
  {
   "cell_type": "code",
   "execution_count": 12,
   "metadata": {},
   "outputs": [
    {
     "name": "stderr",
     "output_type": "stream",
     "text": [
      "100%|██████████| 522/522 [01:33<00:00,  5.57it/s]\n",
      "100%|██████████| 66/66 [00:08<00:00,  7.59it/s]\n",
      "100%|██████████| 66/66 [00:09<00:00,  7.05it/s]\n"
     ]
    }
   ],
   "source": [
    "# predict on the train, test and validation set\n",
    "predictions_train = trainer.predict(train_data)\n",
    "predictions_test = trainer.predict(test_data)\n",
    "predictions_valid = trainer.predict(eval_data)"
   ]
  },
  {
   "cell_type": "code",
   "execution_count": 13,
   "metadata": {},
   "outputs": [],
   "source": [
    "import matplotlib.pyplot as plt"
   ]
  },
  {
   "cell_type": "code",
   "execution_count": 22,
   "metadata": {},
   "outputs": [
    {
     "data": {
      "image/png": "[encoded data removed]",
      "text/plain": [
       "<Figure size 1500x500 with 3 Axes>"
      ]
     },
     "metadata": {},
     "output_type": "display_data"
    }
   ],
   "source": [
    "# plot the predictions\n",
    "fig, ax = plt.subplots(1, 3, figsize=(15, 5))\n",
    "\n",
    "# train\n",
    "ax[0].scatter(predictions_train.predictions, predictions_train.label_ids)\n",
    "ax[0].plot([min(predictions_train.label_ids), max(predictions_train.label_ids)], [min(predictions_train.label_ids), max(predictions_train.label_ids)],  ls='--', c='k')\n",
    "ax[0].set_xlabel('Predicted activity')\n",
    "ax[0].set_ylabel('True activity')\n",
    "ax[0].set_title('Train \\n R2 = {r2:.2f} \\n RMSE = {rmse:.2f}'.format(r2=r2_score(predictions_train.label_ids, predictions_train.predictions), rmse=np.sqrt(mean_squared_error(predictions_train.label_ids, predictions_train.predictions)))) \n",
    "\n",
    "# test\n",
    "ax[1].scatter(predictions_test.predictions, predictions_test.label_ids)\n",
    "ax[1].plot([min(predictions_test.label_ids), max(predictions_test.label_ids)], [min(predictions_test.label_ids), max(predictions_test.label_ids)],  ls='--', c='k')\n",
    "ax[1].set_xlabel('Predicted activity')\n",
    "ax[1].set_ylabel('True activity')\n",
    "ax[1].set_title('Test \\n R2 = {r2:.2f} \\n RMSE = {rmse:.2f}'.format(r2=r2_score(predictions_test.label_ids, predictions_test.predictions), rmse=np.sqrt(mean_squared_error(predictions_test.label_ids, predictions_test.predictions))))\n",
    "\n",
    "# validation\n",
    "ax[2].scatter(predictions_valid.predictions, predictions_valid.label_ids)\n",
    "ax[2].plot([min(predictions_valid.label_ids), max(predictions_valid.label_ids)], [min(predictions_valid.label_ids), max(predictions_valid.label_ids)],  ls='--', c='k')\n",
    "ax[2].set_xlabel('Predicted activity')\n",
    "ax[2].set_ylabel('True activity')\n",
    "ax[2].set_title('Validation \\n R2 = {r2:.2f} \\n RMSE = {rmse:.2f}'.format(r2=r2_score(predictions_valid.label_ids, predictions_valid.predictions), rmse=np.sqrt(mean_squared_error(predictions_valid.label_ids, predictions_valid.predictions))))\n",
    "\n",
    "plt.show()"
   ]
  },
  {
   "cell_type": "code",
   "execution_count": null,
   "metadata": {},
   "outputs": [],
   "source": [
    "from sklearn.metrics import r2_score, mean_absolute_error, mean_squared_error\n",
    "\n",
    "print('R2 score: ', r2_score(predictions.label_ids, predictions.predictions))\n",
    "print('MAE: ', mean_absolute_error(predictions.label_ids, predictions.predictions))\n",
    "print('MSE: ', mean_squared_error(predictions.label_ids, predictions.predictions))\n"
   ]
  }
 ],
 "metadata": {
  "kernelspec": {
   "display_name": "dow_rdkit",
   "language": "python",
   "name": "python3"
  },
  "language_info": {
   "codemirror_mode": {
    "name": "ipython",
    "version": 3
   },
   "file_extension": ".py",
   "mimetype": "text/x-python",
   "name": "python",
   "nbconvert_exporter": "python",
   "pygments_lexer": "ipython3",
   "version": "3.8.5"
  }
 },
 "nbformat": 4,
 "nbformat_minor": 2
}
